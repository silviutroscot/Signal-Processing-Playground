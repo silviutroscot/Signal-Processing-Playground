{
  "nbformat": 4,
  "nbformat_minor": 0,
  "metadata": {
    "colab": {
      "name": "Haar Bases for Image Compression",
      "version": "0.3.2",
      "provenance": [],
      "collapsed_sections": [],
      "include_colab_link": true
    },
    "kernelspec": {
      "name": "python3",
      "display_name": "Python 3"
    }
  },
  "cells": [
    {
      "cell_type": "markdown",
      "metadata": {
        "id": "view-in-github",
        "colab_type": "text"
      },
      "source": [
        "<a href=\"https://colab.research.google.com/github/silviutroscot/Signal-Processing-Playground/blob/master/Haar_Bases_for_Image_Compression.ipynb\" target=\"_parent\"><img src=\"https://colab.research.google.com/assets/colab-badge.svg\" alt=\"Open In Colab\"/></a>"
      ]
    },
    {
      "metadata": {
        "id": "qJUtC8jAKg55",
        "colab_type": "code",
        "colab": {
          "base_uri": "https://localhost:8080/",
          "height": 51
        },
        "outputId": "c08a44e9-1c3a-48c2-8488-ef7b12ada823"
      },
      "cell_type": "code",
      "source": [
        "from google.colab import drive\n",
        "import matplotlib\n",
        "import matplotlib.pyplot as plt\n",
        "import numpy as np\n",
        "import IPython\n",
        "from IPython.display import Image\n",
        "import math\n",
        "from __future__ import print_function\n",
        "\n",
        "drive.mount('/content/drive')\n",
        "\n",
        "# ensure all images will be grayscale\n",
        "gray();"
      ],
      "execution_count": 43,
      "outputs": [
        {
          "output_type": "stream",
          "text": [
            "Drive already mounted at /content/drive; to attempt to forcibly remount, call drive.mount(\"/content/drive\", force_remount=True).\n"
          ],
          "name": "stdout"
        },
        {
          "output_type": "display_data",
          "data": {
            "text/plain": [
              "<matplotlib.figure.Figure at 0x7f27afa449e8>"
            ]
          },
          "metadata": {
            "tags": []
          }
        }
      ]
    },
    {
      "metadata": {
        "id": "Mt5yunyixnmw",
        "colab_type": "code",
        "colab": {
          "base_uri": "https://localhost:8080/",
          "height": 288
        },
        "outputId": "4a0a544d-7cea-4761-ceba-80b330a7d867"
      },
      "cell_type": "code",
      "source": [
        "# create a checkerboard pattern\n",
        "k_size = 4\n",
        "img = np.zeros((k_size, k_size))\n",
        "for n in range(0, k_size):\n",
        "    for m in range(0, k_size):\n",
        "        if ((n + m) % 2 != 0):\n",
        "            img[n, m] = 255\n",
        "\n",
        "# now display the matrix as an image\n",
        "plt.matshow(img)"
      ],
      "execution_count": 36,
      "outputs": [
        {
          "output_type": "execute_result",
          "data": {
            "text/plain": [
              "<matplotlib.image.AxesImage at 0x7f27acfc5ba8>"
            ]
          },
          "metadata": {
            "tags": []
          },
          "execution_count": 36
        },
        {
          "output_type": "display_data",
          "data": {
            "image/png": "[encoded data removed]",
            "text/plain": [
              "<matplotlib.figure.Figure at 0x7f27ad066c50>"
            ]
          },
          "metadata": {
            "tags": []
          }
        }
      ]
    },
    {
      "metadata": {
        "id": "1fc0USvTIiw3",
        "colab_type": "code",
        "colab": {
          "base_uri": "https://localhost:8080/",
          "height": 271
        },
        "outputId": "2aca8d9a-8e1f-4075-be2c-3e13089ac40f"
      },
      "cell_type": "code",
      "source": [
        "# upload image from drive\n",
        "\n",
        "with open ('drive/My Drive/collabFiles/cameraman.jpg', 'rb') as image:\n",
        "  img = np.array(plt.imread(image), dtype=int)\n",
        "\n",
        "plt.matshow(img)\n",
        "plt.show()"
      ],
      "execution_count": 57,
      "outputs": [
        {
          "output_type": "display_data",
          "data": {
            "image/png": "[encoded data removed]",
            "text/plain": [
              "<matplotlib.figure.Figure at 0x7f27ad117f60>"
            ]
          },
          "metadata": {
            "tags": []
          }
        }
      ]
    },
    {
      "metadata": {
        "id": "H8gcqeAaPYI5",
        "colab_type": "text"
      },
      "cell_type": "markdown",
      "source": [
        "# The canonical basis\n",
        "A canonical basis for a space $R^{M*N}$ is a set of matrices is a set of matrices where only one element is 1 and the others are 0."
      ]
    },
    {
      "metadata": {
        "id": "_DNDwcpEQBrT",
        "colab_type": "code",
        "colab": {}
      },
      "cell_type": "code",
      "source": [
        "def construct_canonical_basis(M, N):\n",
        "  canonical_basis = []\n",
        "  for i in range (0, M*N):\n",
        "    basis_element = np.zeros((M, N))\n",
        "    basis_element[(i % M), int(i/M)] = 1\n",
        "    canonical_basis.append(basis_element)\n",
        "    \n",
        "  canonical_basis = np.asarray(canonical_basis)\n",
        "  return canonical_basis\n",
        "\n",
        "print (construct_canonical_basis(3,4))"
      ],
      "execution_count": 0,
      "outputs": []
    },
    {
      "metadata": {
        "id": "3O9HxE4kXnBD",
        "colab_type": "text"
      },
      "cell_type": "markdown",
      "source": [
        "## To transmit the image we would only need to transmit the coefficients of the decomposition of the image over a 64x64 basis.\n",
        "This involves sending 64*64=4096 coefficients over the network. Now, if something happens and we were able to send only half of the coefficients over the network, the result is very bad."
      ]
    },
    {
      "metadata": {
        "id": "068ANqAHXKKw",
        "colab_type": "code",
        "colab": {
          "base_uri": "https://localhost:8080/",
          "height": 288
        },
        "outputId": "a94a3983-855d-4c6e-d151-df5f0f3ab442"
      },
      "cell_type": "code",
      "source": [
        "flatened_img = np.ravel(img, 'F')\n",
        "flatened_img[int(len(flatened_img)/2):] = 0\n",
        "\n",
        "# rebuild matrix\n",
        "reshaped_img = np.reshape(flatened_img, (64, 64), 'F')\n",
        "plt.matshow(reshaped_img)"
      ],
      "execution_count": 72,
      "outputs": [
        {
          "output_type": "execute_result",
          "data": {
            "text/plain": [
              "<matplotlib.image.AxesImage at 0x7f27ac60a240>"
            ]
          },
          "metadata": {
            "tags": []
          },
          "execution_count": 72
        },
        {
          "output_type": "display_data",
          "data": {
            "image/png": "[encoded data removed]",
            "text/plain": [
              "<matplotlib.figure.Figure at 0x7f27ac4a15f8>"
            ]
          },
          "metadata": {
            "tags": []
          }
        }
      ]
    }
  ]
}