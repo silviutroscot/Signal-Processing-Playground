{
  "nbformat": 4,
  "nbformat_minor": 0,
  "metadata": {
    "colab": {
      "name": "Haar Bases for Image Compression",
      "version": "0.3.2",
      "provenance": [],
      "collapsed_sections": [],
      "include_colab_link": true
    },
    "kernelspec": {
      "name": "python3",
      "display_name": "Python 3"
    }
  },
  "cells": [
    {
      "cell_type": "markdown",
      "metadata": {
        "id": "view-in-github",
        "colab_type": "text"
      },
      "source": [
        "<a href=\"https://colab.research.google.com/github/silviutroscot/Signal-Processing-Playground/blob/master/Haar_Bases_for_Image_Compression.ipynb\" target=\"_parent\"><img src=\"https://colab.research.google.com/assets/colab-badge.svg\" alt=\"Open In Colab\"/></a>"
      ]
    },
    {
      "metadata": {
        "id": "qJUtC8jAKg55",
        "colab_type": "code",
        "colab": {
          "base_uri": "https://localhost:8080/",
          "height": 51
        },
        "outputId": "07af6af1-224d-490d-a9f8-32d3139f8e49"
      },
      "cell_type": "code",
      "source": [
        "%pylab inline\n",
        "from google.colab import drive\n",
        "import matplotlib\n",
        "import matplotlib.pyplot as plt\n",
        "import numpy as np\n",
        "import IPython\n",
        "from IPython.display import Image\n",
        "import math\n",
        "from __future__ import print_function\n",
        "\n",
        "#drive.mount('/content/drive')\n",
        "\n",
        "# ensure all images will be grayscale\n",
        "gray()"
      ],
      "execution_count": 8,
      "outputs": [
        {
          "output_type": "stream",
          "text": [
            "Populating the interactive namespace from numpy and matplotlib\n"
          ],
          "name": "stdout"
        },
        {
          "output_type": "display_data",
          "data": {
            "text/plain": [
              "<matplotlib.figure.Figure at 0x7f8894b7e400>"
            ]
          },
          "metadata": {
            "tags": []
          }
        }
      ]
    },
    {
      "metadata": {
        "id": "Mt5yunyixnmw",
        "colab_type": "code",
        "colab": {
          "base_uri": "https://localhost:8080/",
          "height": 288
        },
        "outputId": "b1e3acbe-47cc-47e2-aab6-7e9b615221ea"
      },
      "cell_type": "code",
      "source": [
        "# create a checkerboard pattern\n",
        "k_size = 4\n",
        "img = np.zeros((k_size, k_size))\n",
        "for n in range(0, k_size):\n",
        "    for m in range(0, k_size):\n",
        "        if ((n + m) % 2 != 0):\n",
        "            img[n, m] = 255\n",
        "\n",
        "# now display the matrix as an image\n",
        "plt.matshow(img)"
      ],
      "execution_count": 9,
      "outputs": [
        {
          "output_type": "execute_result",
          "data": {
            "text/plain": [
              "<matplotlib.image.AxesImage at 0x7f8894a80208>"
            ]
          },
          "metadata": {
            "tags": []
          },
          "execution_count": 9
        },
        {
          "output_type": "display_data",
          "data": {
            "image/png": "[encoded data removed]",
            "text/plain": [
              "<matplotlib.figure.Figure at 0x7f8894acd358>"
            ]
          },
          "metadata": {
            "tags": []
          }
        }
      ]
    },
    {
      "metadata": {
        "id": "1fc0USvTIiw3",
        "colab_type": "code",
        "colab": {
          "base_uri": "https://localhost:8080/",
          "height": 271
        },
        "outputId": "0de0140e-78fb-4a29-cc6a-345bd9693efa"
      },
      "cell_type": "code",
      "source": [
        "# upload image from drive\n",
        "\n",
        "with open ('drive/My Drive/collabFiles/cameraman.jpg', 'rb') as image:\n",
        "  img = np.array(plt.imread(image), dtype=int)\n",
        "\n",
        "plt.matshow(img)\n",
        "plt.show()"
      ],
      "execution_count": 11,
      "outputs": [
        {
          "output_type": "display_data",
          "data": {
            "image/png": "[encoded data removed]",
            "text/plain": [
              "<matplotlib.figure.Figure at 0x7f8894a8d0f0>"
            ]
          },
          "metadata": {
            "tags": []
          }
        }
      ]
    },
    {
      "metadata": {
        "id": "H8gcqeAaPYI5",
        "colab_type": "text"
      },
      "cell_type": "markdown",
      "source": [
        "# The canonical basis\n",
        "A canonical basis for a space $R^{M*N}$ is a set of matrices is a set of matrices where only one element is 1 and the others are 0."
      ]
    },
    {
      "metadata": {
        "id": "_DNDwcpEQBrT",
        "colab_type": "code",
        "colab": {}
      },
      "cell_type": "code",
      "source": [
        "def construct_canonical_basis(M, N):\n",
        "  canonical_basis = []\n",
        "  for i in range (0, M*N):\n",
        "    basis_element = np.zeros((M, N))\n",
        "    basis_element[(i % M), int(i/M)] = 1\n",
        "    canonical_basis.append(basis_element)\n",
        "    \n",
        "  canonical_basis = np.asarray(canonical_basis)\n",
        "  return canonical_basis\n",
        "\n",
        "print (construct_canonical_basis(3,4))"
      ],
      "execution_count": 0,
      "outputs": []
    },
    {
      "metadata": {
        "id": "3O9HxE4kXnBD",
        "colab_type": "text"
      },
      "cell_type": "markdown",
      "source": [
        "## To transmit the image we would only need to transmit the coefficients of the decomposition of the image over a 64x64 basis.\n",
        "This involves sending 64*64=4096 coefficients over the network. \n",
        "\n",
        "Now, if something happens and we were able to send only half of the coefficients over the network, the result is very bad."
      ]
    },
    {
      "metadata": {
        "id": "068ANqAHXKKw",
        "colab_type": "code",
        "colab": {
          "base_uri": "https://localhost:8080/",
          "height": 288
        },
        "outputId": "a94a3983-855d-4c6e-d151-df5f0f3ab442"
      },
      "cell_type": "code",
      "source": [
        "flatened_img = np.ravel(img, 'F')\n",
        "flatened_img[int(len(flatened_img)/2):] = 0\n",
        "\n",
        "# rebuild matrix\n",
        "reshaped_img = np.reshape(flatened_img, (64, 64), 'F')\n",
        "plt.matshow(reshaped_img)"
      ],
      "execution_count": 72,
      "outputs": [
        {
          "output_type": "execute_result",
          "data": {
            "text/plain": [
              "<matplotlib.image.AxesImage at 0x7f27ac60a240>"
            ]
          },
          "metadata": {
            "tags": []
          },
          "execution_count": 72
        },
        {
          "output_type": "display_data",
          "data": {
            "image/png": "[encoded data removed]",
            "text/plain": [
              "<matplotlib.figure.Figure at 0x7f27ac4a15f8>"
            ]
          },
          "metadata": {
            "tags": []
          }
        }
      ]
    },
    {
      "metadata": {
        "id": "gjXmxwxqE7jN",
        "colab_type": "text"
      },
      "cell_type": "markdown",
      "source": [
        "## We should find a basis which is more robust to loosing some coefficients.\n",
        "One example of this kind of basis is **Haar basis**.\n",
        "\n",
        "The Haar wavelet is defined as $ \n",
        "h(x)= \\left\\{\n",
        "\\begin{array}{ll}\n",
        "      1 & 0 < x  \\leq \\frac{1}{2} \\\\\n",
        "      -1 & 1/2< x\\leq 1\\\\\n",
        "      0 & otherwise\n",
        "\\end{array} \n",
        "\\right. \n",
        "$\n",
        "### The maths goes further and more details can be found [here](https://users.math.yale.edu/pub/wavelets/software/xwpl/html/manual/node28.html) and [here](http://aix1.uottawa.ca/~jkhoury/haar.htm). The Haar basis works in a *hierarchical* way: the first basis vectors encode the broader information and the higher coefficients encode the detail."
      ]
    },
    {
      "metadata": {
        "id": "dhrcQfNlEJsU",
        "colab_type": "code",
        "colab": {}
      },
      "cell_type": "code",
      "source": [
        "def haar_1D(n, SIZE):\n",
        "  # check power of two\n",
        "    if math.floor(math.log(SIZE) / math.log(2)) != math.log(SIZE) / math.log(2):\n",
        "        print(\"Haar defined only for lengths that are a power of two\")\n",
        "        return None\n",
        "    if n >= SIZE or n < 0:\n",
        "        print(\"invalid Haar index\")\n",
        "        return None\n",
        "    \n",
        "    # zero basis vector\n",
        "    if n == 0:\n",
        "        return np.ones(SIZE)\n",
        "    \n",
        "    # express n > 1 as 2^p + q with p as large as possible;\n",
        "    # then k = SIZE/2^p is the length of the support\n",
        "    # and s = qk is the shift\n",
        "    p = math.floor(math.log(n) / math.log(2))\n",
        "    pp = int(pow(2, p))\n",
        "    k = SIZE / pp\n",
        "    s = (n - pp) * k\n",
        "    \n",
        "    h = np.zeros(SIZE)\n",
        "    h[int(s):int(s+k/2)] = 1\n",
        "    h[int(s+k/2):int(s+k)] = -1\n",
        "    # these are not normalized\n",
        "    return h\n",
        "\n",
        "\n",
        "def haar2D(n, SIZE=8):\n",
        "    # get horizontal and vertical indices\n",
        "    hr = haar_1D(n % SIZE, SIZE)\n",
        "    hv = haar_1D(int(n / SIZE), SIZE)\n",
        "    # 2D Haar basis matrix is separable, so we can\n",
        "    #  just take the column-row product\n",
        "    H = np.outer(hr, hv)\n",
        "    H = H / math.sqrt(np.sum(H * H))\n",
        "    return H\n",
        "    "
      ],
      "execution_count": 0,
      "outputs": []
    },
    {
      "metadata": {
        "id": "eR9a2imkQDFa",
        "colab_type": "code",
        "colab": {
          "base_uri": "https://localhost:8080/",
          "height": 271
        },
        "outputId": "6275518f-f169-41e3-f976-eedb055a8f1a"
      },
      "cell_type": "code",
      "source": [
        "# project the image onto the Haar basis, obtaining a vector of 4096 coefficients\n",
        "# this is simply the analysis formula for the vector space with an orthogonal basis\n",
        "tx_img = np.zeros(64*64)\n",
        "for k in range(0, (64*64)):\n",
        "    tx_img[k] = np.sum(img * haar2D(k, 64))\n",
        "\n",
        "# now rebuild the image with the synthesis formula; since the basis is orthonormal\n",
        "#  we just need to scale the basis matrices by the projection coefficients\n",
        "rx_img = np.zeros((64, 64))\n",
        "for k in range(0, (64*64)):\n",
        "    rx_img += tx_img[k] * haar2D(k, 64)\n",
        "\n",
        "plt.matshow(rx_img);"
      ],
      "execution_count": 24,
      "outputs": [
        {
          "output_type": "display_data",
          "data": {
            "image/png": "[encoded data removed]",
            "text/plain": [
              "<matplotlib.figure.Figure at 0x7f88949bf748>"
            ]
          },
          "metadata": {
            "tags": []
          }
        }
      ]
    },
    {
      "metadata": {
        "id": "dwC7toOoQlM-",
        "colab_type": "code",
        "colab": {
          "base_uri": "https://localhost:8080/",
          "height": 271
        },
        "outputId": "b0de5f80-0256-4f9e-8016-ce2de72d2d7b"
      },
      "cell_type": "code",
      "source": [
        "# simulate the lose of half of the data\n",
        "lossy_img = np.copy(tx_img);\n",
        "lossy_img[int(len(tx_img)/2):] = 0\n",
        "\n",
        "# rebuild matrix\n",
        "rx_img = np.zeros((64, 64))\n",
        "for k in range(0, (64*64)):\n",
        "    rx_img += lossy_img[k] * haar2D(k, 64)\n",
        "\n",
        "plt.matshow(rx_img);"
      ],
      "execution_count": 25,
      "outputs": [
        {
          "output_type": "display_data",
          "data": {
            "image/png": "[encoded data removed]",
            "text/plain": [
              "<matplotlib.figure.Figure at 0x7f88949a5ac8>"
            ]
          },
          "metadata": {
            "tags": []
          }
        }
      ]
    },
    {
      "metadata": {
        "id": "u8kbKLGjQsAY",
        "colab_type": "code",
        "colab": {
          "base_uri": "https://localhost:8080/",
          "height": 271
        },
        "outputId": "196f2c7a-854d-4029-8410-0c1362427bcd"
      },
      "cell_type": "code",
      "source": [
        "# simulate loosing 3/4 of data\n",
        "lossy_img = np.copy(tx_img);\n",
        "lossy_img[int(len(tx_img)/4):] = 0\n",
        "\n",
        "# rebuild matrix\n",
        "rx_img = np.zeros((64, 64))\n",
        "for k in range(0, (64*64)):\n",
        "    rx_img += lossy_img[k] * haar2D(k, 64)\n",
        "\n",
        "plt.matshow(rx_img);"
      ],
      "execution_count": 28,
      "outputs": [
        {
          "output_type": "display_data",
          "data": {
            "image/png": "[encoded data removed]",
            "text/plain": [
              "<matplotlib.figure.Figure at 0x7f8894926c88>"
            ]
          },
          "metadata": {
            "tags": []
          }
        }
      ]
    }
  ]
}